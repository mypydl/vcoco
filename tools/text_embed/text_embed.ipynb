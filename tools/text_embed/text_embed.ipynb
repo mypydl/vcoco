{
 "cells": [
  {
   "cell_type": "code",
   "execution_count": 1,
   "metadata": {},
   "outputs": [
    {
     "name": "stderr",
     "output_type": "stream",
     "text": [
      "/home/wuhao/.conda/envs/torch2/lib/python3.9/site-packages/tqdm/auto.py:21: TqdmWarning: IProgress not found. Please update jupyter and ipywidgets. See https://ipywidgets.readthedocs.io/en/stable/user_install.html\n",
      "  from .autonotebook import tqdm as notebook_tqdm\n"
     ]
    }
   ],
   "source": [
    "import torch\n",
    "from mmengine import dump, load\n",
    "from clip import clip"
   ]
  },
  {
   "cell_type": "code",
   "execution_count": 2,
   "metadata": {},
   "outputs": [],
   "source": [
    "label_info = load('../../configs/label_info.json')\n",
    "hoi_info = label_info['hoi_info']\n",
    "ins_info = label_info['ins_info']"
   ]
  },
  {
   "cell_type": "code",
   "execution_count": 6,
   "metadata": {},
   "outputs": [],
   "source": [
    "hoi_text = [item['text'] for item in sorted(list(hoi_info.values()), key=lambda x:x['valid_id'])]\n",
    "hoi_text_inputs = torch.cat([clip.tokenize(text) for text in hoi_text])\n",
    "ins_text = [item['text'] for item in sorted(list(ins_info.values()), key=lambda x:x['valid_id'])]\n",
    "ins_text.append('a photo of nothing')\n",
    "ins_text_inputs = torch.cat([clip.tokenize(text) for text in ins_text])"
   ]
  },
  {
   "cell_type": "code",
   "execution_count": 4,
   "metadata": {},
   "outputs": [],
   "source": [
    "def gen_text_embed(text, clip_model):\n",
    "    with torch.no_grad():\n",
    "        # text_embed = clip_model.encode_text(text.to('cuda')).float()\n",
    "        text_embed = clip_model.encode_text(text).float()\n",
    "    return text_embed / text_embed.norm(dim=-1, keepdim=True)"
   ]
  },
  {
   "cell_type": "code",
   "execution_count": 5,
   "metadata": {},
   "outputs": [],
   "source": [
    "# clip_model, _ = clip.load(name='ViT-B/32', download_root='/data1/wuhao/weights/CLIP', device='cpu')\n",
    "# clip_model, _ = clip.load(name='/data1/wuhao/weights/CLIP/RN50.pt', device='cpu')\n",
    "clip_model, _ = clip.load(name='/data1/wuhao/weights/CLIP/ViT-B-32.pt', device='cpu')\n",
    "# clip_model, _ = clip.load(name='/data1/wuhao/weights/CLIP/ViT-L-14.pt', device='cpu')"
   ]
  },
  {
   "cell_type": "code",
   "execution_count": 7,
   "metadata": {},
   "outputs": [],
   "source": [
    "hoi_text_embed = gen_text_embed(hoi_text_inputs, clip_model).cpu()\n",
    "ins_text_embed = gen_text_embed(ins_text_inputs, clip_model).cpu()"
   ]
  },
  {
   "cell_type": "code",
   "execution_count": 8,
   "metadata": {},
   "outputs": [],
   "source": [
    "# dump(hoi_text_embed, 'hoi_text_embed_CLIP-1024_RN50.pkl')\n",
    "# dump(ins_text_embed, 'ins_text_embed_CLIP-1024_RN50.pkl')\n",
    "dump(hoi_text_embed, 'hoi_text_embed_CLIP-512_ViT-B-32.pkl')\n",
    "dump(ins_text_embed, 'ins_text_embed_CLIP-512_ViT-B-32.pkl')\n",
    "# dump(hoi_text_embed, 'hoi_text_embed_CLIP-768_ViT-L-14.pkl')\n",
    "# dump(ins_text_embed, 'ins_text_embed_CLIP-768_ViT-L-14.pkl')"
   ]
  },
  {
   "cell_type": "code",
   "execution_count": null,
   "metadata": {},
   "outputs": [],
   "source": []
  }
 ],
 "metadata": {
  "kernelspec": {
   "display_name": "Python 3.9.13 ('mmlab')",
   "language": "python",
   "name": "python3"
  },
  "language_info": {
   "codemirror_mode": {
    "name": "ipython",
    "version": 3
   },
   "file_extension": ".py",
   "mimetype": "text/x-python",
   "name": "python",
   "nbconvert_exporter": "python",
   "pygments_lexer": "ipython3",
   "version": "3.9.18"
  },
  "orig_nbformat": 4,
  "vscode": {
   "interpreter": {
    "hash": "860f04aefc9e3b0aa81e6b65839e758c2f993e15969b910de4cd110e056d16fe"
   }
  }
 },
 "nbformat": 4,
 "nbformat_minor": 2
}
