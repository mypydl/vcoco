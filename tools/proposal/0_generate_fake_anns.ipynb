{
 "cells": [
  {
   "cell_type": "markdown",
   "metadata": {},
   "source": [
    "# 用于欺骗相关模型产生预测"
   ]
  },
  {
   "cell_type": "code",
   "execution_count": 1,
   "metadata": {},
   "outputs": [],
   "source": [
    "import os\n",
    "from tqdm import tqdm\n",
    "from pycocotools.coco import COCO\n",
    "from mmengine import load, dump"
   ]
  },
  {
   "cell_type": "markdown",
   "metadata": {},
   "source": [
    "#### keypoint"
   ]
  },
  {
   "cell_type": "code",
   "execution_count": 2,
   "metadata": {},
   "outputs": [],
   "source": [
    "# body2d_categories = load('/data0/DataSet/COCO2014/annotations/person_keypoints_val2014.json')['categories']\n",
    "# dump(body2d_categories, '../../configs/pose_categories.json')\n",
    "body2d_categories = load('../../configs/pose_categories.json')\n",
    "\n",
    "def gen_fake_body2d_keypoint(coco_ins: COCO):\n",
    "    annotations = []\n",
    "    for img_id in tqdm(coco_ins.getImgIds()):\n",
    "        annotations.append({\n",
    "            'keypoints': [],\n",
    "            'num_keypoints': 17,\n",
    "            'id': img_id,\n",
    "            'image_id': img_id,\n",
    "            'category_id': 1,\n",
    "            'area': 100,\n",
    "            'bbox': [10, 10, 20, 20],\n",
    "            'iscrowd': 0,\n",
    "        })\n",
    "    body2d = {\n",
    "        \"info\": coco_ins.dataset['info'],\n",
    "        \"licenses\": coco_ins.dataset['licenses'],\n",
    "        \"images\": coco_ins.dataset['images'],\n",
    "        \"annotations\": annotations,\n",
    "        \"categories\": body2d_categories\n",
    "    }\n",
    "    return body2d"
   ]
  },
  {
   "cell_type": "code",
   "execution_count": 3,
   "metadata": {},
   "outputs": [],
   "source": [
    "# wholebody_categories = load('pose_example/wholebody_example_gt.json')['categories']\n",
    "# dump(wholebody_categories, '../../configs/wholebody_categories.json')\n",
    "wholebody_categories = load('../../configs/wholebody_categories.json')\n",
    "\n",
    "def gen_fake_wholebody_keypoint(coco_ins: COCO):\n",
    "    annotations = []\n",
    "    for img_id in tqdm(coco_ins.getImgIds()):\n",
    "        annotations.append({\n",
    "            'keypoints': [],\n",
    "            'foot_kpts': [],\n",
    "            'face_kpts': [],\n",
    "            'lefthand_kpts': [],\n",
    "            'righthand_kpts': [],\n",
    "            'num_keypoints': 17,\n",
    "            'id': img_id,\n",
    "            'image_id': img_id,\n",
    "            'category_id': 1,\n",
    "            'area': 100,\n",
    "            'bbox': [10, 10, 20, 20],\n",
    "            'face_box': [10, 10, 20, 20],\n",
    "            'lefthand_box': [10, 10, 20, 20],\n",
    "            'righthand_box': [10, 10, 20, 20],\n",
    "            'iscrowd': 0,\n",
    "            'face_valid': True,\n",
    "            'lefthand_valid': True,\n",
    "            'righthand_valid': True,\n",
    "            'foot_valid': True,\n",
    "        })\n",
    "    wholebody = {\n",
    "        \"info\": coco_ins.dataset['info'],\n",
    "        \"licenses\": coco_ins.dataset['licenses'],\n",
    "        \"images\": coco_ins.dataset['images'],\n",
    "        \"annotations\": annotations,\n",
    "        \"categories\": wholebody_categories\n",
    "    }\n",
    "    return wholebody"
   ]
  },
  {
   "cell_type": "markdown",
   "metadata": {},
   "source": [
    "#### panoptic"
   ]
  },
  {
   "cell_type": "code",
   "execution_count": 4,
   "metadata": {},
   "outputs": [],
   "source": [
    "# panoptic_categories = load('/data0/DataSet/COCO2017/annotations/panoptic_val2017.json')['categories']\n",
    "# dump(panoptic_categories, '../../configs/panoptic_categories.json')\n",
    "panoptic_categories = load('../../configs/panoptic_categories.json')\n",
    "\n",
    "def gen_fake_panoptic(coco_ins: COCO):\n",
    "    annotations = []\n",
    "    for img_id in tqdm(coco_ins.getImgIds()):\n",
    "        annotations.append({\n",
    "            'segments_info':[{\n",
    "                'id': img_id,\n",
    "                'category_id': 1,\n",
    "                'iscrowd': 0,\n",
    "                'bbox': [10, 10, 20, 20],\n",
    "                'area': 100\n",
    "            }],\n",
    "            # 需要运行gray2rgb.py，将gray图片转为rgb图片\n",
    "            'file_name': coco_ins.loadImgs(img_id)[0]['file_name'],  \n",
    "            'image_id': img_id\n",
    "        })\n",
    "    new_anns = {\n",
    "        \"info\": coco_ins.dataset['info'],\n",
    "        \"licenses\": coco_ins.dataset['licenses'],\n",
    "        \"images\": coco_ins.dataset['images'],\n",
    "        \"annotations\": annotations,\n",
    "        \"categories\": panoptic_categories\n",
    "    }\n",
    "    return new_anns"
   ]
  },
  {
   "cell_type": "markdown",
   "metadata": {},
   "source": [
    "## func map"
   ]
  },
  {
   "cell_type": "code",
   "execution_count": 5,
   "metadata": {},
   "outputs": [],
   "source": [
    "func_map = {\n",
    "    'person_keypoints': gen_fake_body2d_keypoint,\n",
    "    'person_wholebody': gen_fake_wholebody_keypoint,\n",
    "    'panoptics': gen_fake_panoptic\n",
    "}"
   ]
  },
  {
   "cell_type": "markdown",
   "metadata": {},
   "source": [
    "# generate"
   ]
  },
  {
   "cell_type": "code",
   "execution_count": 6,
   "metadata": {},
   "outputs": [],
   "source": [
    "fake_root = '../../annotations/fake/'\n",
    "if not os.path.exists(fake_root):\n",
    "    os.makedirs(fake_root)"
   ]
  },
  {
   "cell_type": "code",
   "execution_count": 8,
   "metadata": {},
   "outputs": [
    {
     "name": "stderr",
     "output_type": "stream",
     "text": [
      "  0%|          | 0/5400 [00:00<?, ?it/s]"
     ]
    },
    {
     "name": "stderr",
     "output_type": "stream",
     "text": [
      "100%|██████████| 5400/5400 [00:00<00:00, 285787.63it/s]\n",
      "100%|██████████| 5400/5400 [00:00<00:00, 42299.06it/s]\n",
      "100%|██████████| 5400/5400 [00:00<00:00, 534621.54it/s]\n"
     ]
    }
   ],
   "source": [
    "coco_ins = COCO('../../annotations/instances_train.json')\n",
    "\n",
    "for type_name, func in func_map.items():\n",
    "    coco_fake = func(coco_ins)\n",
    "    dump(coco_fake, os.path.join(fake_root, f'fake_{type_name}_train.json'))"
   ]
  },
  {
   "cell_type": "code",
   "execution_count": 9,
   "metadata": {},
   "outputs": [
    {
     "name": "stdout",
     "output_type": "stream",
     "text": [
      "loading annotations into memory...\n",
      "Done (t=0.80s)\n",
      "creating index...\n",
      "index created!\n"
     ]
    },
    {
     "name": "stderr",
     "output_type": "stream",
     "text": [
      "100%|██████████| 4946/4946 [00:00<00:00, 753378.40it/s]\n",
      "100%|██████████| 4946/4946 [00:00<00:00, 458200.50it/s]\n",
      "100%|██████████| 4946/4946 [00:00<00:00, 573574.09it/s]\n"
     ]
    }
   ],
   "source": [
    "coco_ins = COCO('../../annotations/instances_test.json')\n",
    "for type_name, func in func_map.items():\n",
    "    coco_fake = func(coco_ins)\n",
    "    dump(coco_fake, os.path.join(fake_root, f'fake_{type_name}_test.json'))"
   ]
  },
  {
   "cell_type": "code",
   "execution_count": null,
   "metadata": {},
   "outputs": [],
   "source": []
  }
 ],
 "metadata": {
  "kernelspec": {
   "display_name": "mmcv",
   "language": "python",
   "name": "python3"
  },
  "language_info": {
   "codemirror_mode": {
    "name": "ipython",
    "version": 3
   },
   "file_extension": ".py",
   "mimetype": "text/x-python",
   "name": "python",
   "nbconvert_exporter": "python",
   "pygments_lexer": "ipython3",
   "version": "3.9.18"
  },
  "orig_nbformat": 4
 },
 "nbformat": 4,
 "nbformat_minor": 2
}
