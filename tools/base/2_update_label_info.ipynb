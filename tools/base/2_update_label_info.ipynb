{
 "cells": [
  {
   "cell_type": "code",
   "execution_count": 1,
   "metadata": {},
   "outputs": [],
   "source": [
    "from collections import defaultdict\n",
    "from pprint import pprint\n",
    "from pycocotools.coco import COCO\n",
    "from mmengine import load, dump"
   ]
  },
  {
   "cell_type": "code",
   "execution_count": 12,
   "metadata": {},
   "outputs": [
    {
     "name": "stdout",
     "output_type": "stream",
     "text": [
      "loading annotations into memory...\n",
      "Done (t=0.77s)\n",
      "creating index...\n",
      "index created!\n",
      "loading annotations into memory...\n",
      "Done (t=0.04s)\n",
      "creating index...\n",
      "index created!\n",
      "loading annotations into memory...\n",
      "Done (t=0.65s)\n",
      "creating index...\n",
      "index created!\n",
      "loading annotations into memory...\n",
      "Done (t=0.03s)\n",
      "creating index...\n",
      "index created!\n"
     ]
    }
   ],
   "source": [
    "coco_ins_train = COCO('../../annotations/instances_train.json')\n",
    "coco_ins_test  = COCO('../../annotations/instances_test.json')\n",
    "coco_rel_train = COCO('relations_train.json')\n",
    "coco_rel_test  = COCO('relations_test.json')\n",
    "# coco_rel_train = COCO('../../annotations/relations_train.json')\n",
    "# coco_rel_test  = COCO('../../annotations/relations_test.json')"
   ]
  },
  {
   "cell_type": "code",
   "execution_count": 13,
   "metadata": {},
   "outputs": [
    {
     "data": {
      "text/plain": [
       "242"
      ]
     },
     "execution_count": 13,
     "metadata": {},
     "output_type": "execute_result"
    }
   ],
   "source": [
    "train_pairs = set()\n",
    "for ann in coco_rel_train.anns.values():\n",
    "    rel = ann['category_id']\n",
    "    if ann['object_id'] == -1:\n",
    "        obj = -1\n",
    "    else:\n",
    "        obj = coco_ins_train.anns[ann['object_id']]['category_id']\n",
    "    train_pairs.add((rel, obj))\n",
    "len(train_pairs)"
   ]
  },
  {
   "cell_type": "code",
   "execution_count": 14,
   "metadata": {},
   "outputs": [
    {
     "data": {
      "text/plain": [
       "238"
      ]
     },
     "execution_count": 14,
     "metadata": {},
     "output_type": "execute_result"
    }
   ],
   "source": [
    "test_pairs = set()\n",
    "for ann in coco_rel_test.anns.values():\n",
    "    rel = ann['category_id']\n",
    "    if ann['object_id'] == -1:\n",
    "        obj = -1\n",
    "    else:\n",
    "        obj = coco_ins_test.anns[ann['object_id']]['category_id']\n",
    "    test_pairs.add((rel, obj))\n",
    "len(test_pairs)"
   ]
  },
  {
   "cell_type": "code",
   "execution_count": 15,
   "metadata": {},
   "outputs": [
    {
     "name": "stdout",
     "output_type": "stream",
     "text": [
      "242 22\n",
      "238 18\n"
     ]
    }
   ],
   "source": [
    "train_spatial_pairs = train_pairs - test_pairs\n",
    "test_spatial_pairs = test_pairs - train_pairs\n",
    "print(len(train_pairs), len(train_spatial_pairs))\n",
    "print(len(test_pairs), len(test_spatial_pairs))"
   ]
  },
  {
   "cell_type": "code",
   "execution_count": 16,
   "metadata": {},
   "outputs": [],
   "source": [
    "label_info = load('label_info.json')\n",
    "pair2hoi = label_info['pair2hoi']\n",
    "hoi_info = label_info['hoi_info']\n",
    "ins_info = label_info['ins_info']\n",
    "rel_info = label_info['rel_info']"
   ]
  },
  {
   "cell_type": "code",
   "execution_count": 17,
   "metadata": {},
   "outputs": [
    {
     "name": "stdout",
     "output_type": "stream",
     "text": [
      "(5, 58) look obj potted plant\n",
      "(0, 19) hold obj cow\n",
      "(5, 8) look obj boat\n",
      "(17, 49) cut obj orange\n",
      "(17, 73) cut obj book\n",
      "(13, 18) carry obj sheep\n",
      "(17, 52) cut obj hot dog\n",
      "(0, 59) hold obj bed\n",
      "(13, 2) carry obj car\n",
      "(17, 63) cut obj laptop\n",
      "(11, 61) lay instr toilet\n",
      "(17, 36) cut obj skateboard\n",
      "(13, 63) carry obj laptop\n",
      "(5, 9) look obj traffic light\n",
      "(13, 16) carry obj dog\n",
      "(13, 1) carry obj bicycle\n",
      "(13, 54) carry obj donut\n",
      "(0, 60) hold obj dining table\n"
     ]
    }
   ],
   "source": [
    "for (rel, ins) in test_spatial_pairs:\n",
    "    print((rel-1, ins_info[str(ins)]['valid_id']), end=' ')\n",
    "    print(rel_info[str(rel)]['name'] + ' ' + ins_info[str(ins)]['name'])"
   ]
  },
  {
   "cell_type": "markdown",
   "metadata": {},
   "source": [
    "## collect counts"
   ]
  },
  {
   "cell_type": "code",
   "execution_count": 34,
   "metadata": {},
   "outputs": [],
   "source": [
    "rare_threshold = 10\n",
    "num_hoi, num_rel, num_ins = len(hoi_info), len(rel_info), len(ins_info)\n",
    "def collect_counts(coco_ins: COCO, coco_rel: COCO, subset: str):\n",
    "    counts_hoi = defaultdict(lambda: 0)\n",
    "    counts_ins = defaultdict(lambda: 0)\n",
    "    counts_rel = defaultdict(lambda: 0)\n",
    "\n",
    "    num_no_obj = 0\n",
    "\n",
    "    for ann in coco_ins.anns.values():\n",
    "        counts_ins[ann['category_id']] += 1\n",
    "\n",
    "    for ann in coco_rel.anns.values():\n",
    "        rel = ann['category_id']\n",
    "        if ann['object_id'] == -1:\n",
    "            num_no_obj += 1\n",
    "            obj = 0\n",
    "        else:\n",
    "            obj = coco_ins.anns[ann['object_id']]['category_id']\n",
    "        hoi = pair2hoi[str((rel, obj))]\n",
    "\n",
    "        counts_rel[rel] += 1\n",
    "        counts_hoi[hoi] += 1\n",
    "\n",
    "    counts_ins[0] = num_no_obj\n",
    "\n",
    "    exist_hoi, exist_rel, exist_ins = len(counts_hoi), len(counts_rel), len(counts_ins)\n",
    "    rare_hoi = sum([count < rare_threshold for count in counts_hoi.values()])\n",
    "    print(f'--- {subset} ---')\n",
    "    print(f\"exist_hoi: {exist_hoi:<3d}, no_exist_hoi: {num_hoi - exist_hoi}\")\n",
    "    print(f\"exist_rel: {exist_rel:<3d}, no_exist_rel: {num_rel - exist_rel}\")\n",
    "    print(f\"exist_ins: {exist_ins:<3d}, no_exist_ins: {num_ins - exist_ins}\")\n",
    "    print(f\"rare_hoi : {rare_hoi + num_hoi - exist_hoi:<3d}, non-rare_hoi : {exist_hoi - rare_hoi}\")\n",
    "    print(f\"num no-obj_hoi: {num_no_obj}, num valid_hoi: {len(coco_rel.anns) - num_no_obj}\")\n",
    "    print(f'----{\"-\"*len(subset)}----\\n')\n",
    "    return dict(counts_hoi), dict(counts_rel), dict(counts_ins)"
   ]
  },
  {
   "cell_type": "code",
   "execution_count": 35,
   "metadata": {},
   "outputs": [
    {
     "name": "stdout",
     "output_type": "stream",
     "text": [
      "--- train ---\n",
      "exist_hoi: 242, no_exist_hoi: 18\n",
      "exist_rel: 24 , no_exist_rel: 0\n",
      "exist_ins: 81 , no_exist_ins: 0\n",
      "rare_hoi : 113, non-rare_hoi : 147\n",
      "num no-obj_hoi: 4534, num valid_hoi: 13817\n",
      "-------------\n",
      "\n",
      "--- test ---\n",
      "exist_hoi: 238, no_exist_hoi: 22\n",
      "exist_rel: 24 , no_exist_rel: 0\n",
      "exist_ins: 81 , no_exist_ins: 0\n",
      "rare_hoi : 117, non-rare_hoi : 143\n",
      "num no-obj_hoi: 3959, num valid_hoi: 12402\n",
      "------------\n",
      "\n"
     ]
    }
   ],
   "source": [
    "counts_hoi_train, counts_rel_train, counts_ins_train = \\\n",
    "    collect_counts(coco_ins_train, coco_rel_train, 'train')\n",
    "counts_hoi_test, counts_rel_test, counts_ins_test = \\\n",
    "    collect_counts(coco_ins_test, coco_rel_test, 'test')"
   ]
  },
  {
   "cell_type": "markdown",
   "metadata": {},
   "source": [
    "## update label_info"
   ]
  },
  {
   "cell_type": "code",
   "execution_count": 38,
   "metadata": {},
   "outputs": [],
   "source": [
    "def add_count(category_info: dict, counts_train: dict, counts_test: dict):\n",
    "    key_not_in_train, key_not_in_test = [], []\n",
    "    for key, value in category_info.items():\n",
    "        key = int(key)\n",
    "        if key not in counts_train:\n",
    "            key_not_in_train.append(key)\n",
    "        if key not in counts_test:\n",
    "            key_not_in_test.append(key)\n",
    "        value['counts_train'] = counts_train.get(key, 0)\n",
    "        value['counts_test'] = counts_test.get(key, 0)\n",
    "    print(len(key_not_in_train), len(key_not_in_test))\n",
    "    return key_not_in_train, key_not_in_test"
   ]
  },
  {
   "cell_type": "code",
   "execution_count": 39,
   "metadata": {},
   "outputs": [
    {
     "name": "stdout",
     "output_type": "stream",
     "text": [
      "18 22\n",
      "0 0\n",
      "0 0\n"
     ]
    }
   ],
   "source": [
    "key_not_in_train_hoi, key_not_in_test_hoi = add_count(hoi_info, counts_hoi_train, counts_hoi_test)\n",
    "key_not_in_train_ins, key_not_in_test_ins = add_count(ins_info, counts_ins_train, counts_ins_test)\n",
    "key_not_in_train_rel, key_not_in_test_rel = add_count(rel_info, counts_rel_train, counts_rel_test)"
   ]
  },
  {
   "cell_type": "code",
   "execution_count": 40,
   "metadata": {},
   "outputs": [],
   "source": [
    "dump(label_info, 'label_info.json')"
   ]
  },
  {
   "cell_type": "code",
   "execution_count": null,
   "metadata": {},
   "outputs": [],
   "source": []
  }
 ],
 "metadata": {
  "kernelspec": {
   "display_name": "Python 3.9.13 ('mmlab')",
   "language": "python",
   "name": "python3"
  },
  "language_info": {
   "codemirror_mode": {
    "name": "ipython",
    "version": 3
   },
   "file_extension": ".py",
   "mimetype": "text/x-python",
   "name": "python",
   "nbconvert_exporter": "python",
   "pygments_lexer": "ipython3",
   "version": "3.9.18"
  },
  "orig_nbformat": 4,
  "vscode": {
   "interpreter": {
    "hash": "860f04aefc9e3b0aa81e6b65839e758c2f993e15969b910de4cd110e056d16fe"
   }
  }
 },
 "nbformat": 4,
 "nbformat_minor": 2
}
