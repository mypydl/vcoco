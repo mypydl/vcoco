{
 "cells": [
  {
   "cell_type": "markdown",
   "metadata": {},
   "source": [
    "由[https://github.com/s-gupta/v-coco](https://github.com/s-gupta/v-coco)提供的标注格式，转换为COCO标注格式"
   ]
  },
  {
   "cell_type": "code",
   "execution_count": 1,
   "metadata": {},
   "outputs": [],
   "source": [
    "from pprint import pprint\n",
    "import os\n",
    "import shutil\n",
    "import numpy as np\n",
    "from pycocotools.coco import COCO\n",
    "from mmengine import load, dump\n",
    "from utils import gen_new_coco"
   ]
  },
  {
   "cell_type": "code",
   "execution_count": 2,
   "metadata": {},
   "outputs": [],
   "source": [
    "raw_rel_train = load('../../annotations/raw/vcoco_trainval.json')\n",
    "raw_rel_test  = load('../../annotations/raw/vcoco_test.json')"
   ]
  },
  {
   "cell_type": "code",
   "execution_count": 3,
   "metadata": {},
   "outputs": [
    {
     "data": {
      "text/plain": [
       "dict_keys(['image_id', 'ann_id', 'role_object_id', 'label', 'action_name', 'role_name', 'include'])"
      ]
     },
     "execution_count": 3,
     "metadata": {},
     "output_type": "execute_result"
    }
   ],
   "source": [
    "raw_rel_test[0].keys()\n",
    "# 所有raw_ann的image_id&ann_id都是一样的\n",
    "# image_id       - Nx1, 所有有verb的img_ids\n",
    "# ann_id         - Nx1, 某个潜在verb实例涉及的sub_ins_id\n",
    "# label          - Nx1, 某个潜在verb实例是否属于当前action类\n",
    "# action_name    - string\n",
    "# role_name      - ['agent', 'obj', 'instr']\n",
    "# role_object_id - N x K matrix, obviously [:,0] is same as ann_id"
   ]
  },
  {
   "cell_type": "markdown",
   "metadata": {},
   "source": [
    "## image"
   ]
  },
  {
   "cell_type": "code",
   "execution_count": 3,
   "metadata": {},
   "outputs": [],
   "source": [
    "def collect_images(file_names: list, src_root: str, dst_root: str):\n",
    "    if not os.path.exists(dst_root):\n",
    "        os.makedirs(dst_root)\n",
    "    for filename in file_names:\n",
    "        src_path = os.path.join(src_root, filename)\n",
    "        dst_path = os.path.join(dst_root, filename)\n",
    "        if not os.path.isfile(dst_path):\n",
    "            shutil.copy(src_path, dst_root)"
   ]
  },
  {
   "cell_type": "code",
   "execution_count": 4,
   "metadata": {},
   "outputs": [],
   "source": [
    "train_img_ids = sorted(raw_rel_train[0]['image_id'])\n",
    "test_img_ids  = sorted( raw_rel_test[0]['image_id'])\n",
    "train_img_filenames = [f'COCO_train2014_{id:0>12}.jpg' for id in train_img_ids]\n",
    "test_img_filenames  = [f'COCO_val2014_{  id:0>12}.jpg' for id in  test_img_ids]"
   ]
  },
  {
   "cell_type": "code",
   "execution_count": 5,
   "metadata": {},
   "outputs": [],
   "source": [
    "collect_images(train_img_filenames, '/data0/DataSet/COCO2014/train2014/', '../../images/train/')\n",
    "collect_images( test_img_filenames, '/data0/DataSet/COCO2014/val2014/'  , '../../images/test/' )"
   ]
  },
  {
   "cell_type": "markdown",
   "metadata": {},
   "source": [
    "## annotation"
   ]
  },
  {
   "cell_type": "markdown",
   "metadata": {},
   "source": [
    "### instance"
   ]
  },
  {
   "cell_type": "code",
   "execution_count": 7,
   "metadata": {},
   "outputs": [
    {
     "name": "stdout",
     "output_type": "stream",
     "text": [
      "loading annotations into memory...\n",
      "Done (t=9.53s)\n",
      "creating index...\n",
      "index created!\n",
      "creating index...\n",
      "index created!\n",
      "loading annotations into memory...\n",
      "Done (t=5.39s)\n",
      "creating index...\n",
      "index created!\n",
      "creating index...\n",
      "index created!\n"
     ]
    }
   ],
   "source": [
    "coco_ins_train = COCO('/data0/DataSet/COCO2014/annotations/instances_train2014.json')\n",
    "coco_ins_test  = COCO('/data0/DataSet/COCO2014/annotations/instances_val2014.json')\n",
    "coco_ins_train = gen_new_coco(coco_ins_train, valid_img_ids=raw_rel_train[0]['image_id'])\n",
    "coco_ins_test  = gen_new_coco(coco_ins_test , valid_img_ids=raw_rel_test [0]['image_id'])"
   ]
  },
  {
   "cell_type": "code",
   "execution_count": 8,
   "metadata": {},
   "outputs": [
    {
     "data": {
      "text/plain": [
       "(5400, 4946)"
      ]
     },
     "execution_count": 8,
     "metadata": {},
     "output_type": "execute_result"
    }
   ],
   "source": [
    "len(coco_ins_train.dataset['images']), len(coco_ins_test.dataset['images'])"
   ]
  },
  {
   "cell_type": "code",
   "execution_count": 3,
   "metadata": {},
   "outputs": [],
   "source": [
    "dump(dict(info=None, licenses=[], images=coco_ins_train.dataset['images']), 'image_info_train.json')\n",
    "dump(coco_ins_train.dataset, 'instances_train.json')\n",
    "dump(dict(info=None, licenses=[], images=coco_ins_test.dataset['images']), 'image_info_test.json')\n",
    "dump(coco_ins_test.dataset, 'instances_test.json')"
   ]
  },
  {
   "cell_type": "markdown",
   "metadata": {},
   "source": [
    "### person_keypoints"
   ]
  },
  {
   "cell_type": "code",
   "execution_count": 3,
   "metadata": {},
   "outputs": [
    {
     "name": "stdout",
     "output_type": "stream",
     "text": [
      "loading annotations into memory...\n",
      "Done (t=5.37s)\n",
      "creating index...\n",
      "index created!\n",
      "loading annotations into memory...\n",
      "Done (t=3.19s)\n",
      "creating index...\n",
      "index created!\n",
      "creating index...\n",
      "index created!\n",
      "creating index...\n",
      "index created!\n"
     ]
    }
   ],
   "source": [
    "coco_key_train = COCO('/data0/DataSet/COCO2014/annotations/person_keypoints_train2014.json')\n",
    "coco_key_test  = COCO('/data0/DataSet/COCO2014/annotations/person_keypoints_val2014.json')\n",
    "coco_key_train = gen_new_coco(coco_key_train, valid_img_ids=raw_rel_train[0]['image_id'])\n",
    "coco_key_test  = gen_new_coco(coco_key_test , valid_img_ids=raw_rel_test [0]['image_id'])"
   ]
  },
  {
   "cell_type": "code",
   "execution_count": 5,
   "metadata": {},
   "outputs": [
    {
     "data": {
      "text/plain": [
       "(5400, 4946)"
      ]
     },
     "execution_count": 5,
     "metadata": {},
     "output_type": "execute_result"
    }
   ],
   "source": [
    "len(coco_key_train.dataset['images']), len(coco_key_test.dataset['images'])"
   ]
  },
  {
   "cell_type": "code",
   "execution_count": null,
   "metadata": {},
   "outputs": [],
   "source": [
    "# coco_ins_train = COCO('../../annotations/instances_train.json')\n",
    "# coco_ins_test  = COCO('../../annotations/instances_test.json')\n",
    "# coco_key_train = COCO('../../annotations/person_keypoints_train.json')\n",
    "# coco_key_test  = COCO('../../annotations/person_keypoints_test.json')\n",
    "\n",
    "# for ann in coco_key_test.anns.values():\n",
    "#     assert ann['bbox'] == coco_ins_test.anns[ann['id']]['bbox']\n",
    "# for ann in coco_key_train.anns.values():\n",
    "#     assert ann['bbox'] == coco_ins_train.anns[ann['id']]['bbox']"
   ]
  },
  {
   "cell_type": "code",
   "execution_count": 6,
   "metadata": {},
   "outputs": [],
   "source": [
    "dump(coco_key_train.dataset, 'person_keypoints_train.json')\n",
    "dump(coco_key_test.dataset , 'person_keypoints_test.json')"
   ]
  },
  {
   "cell_type": "markdown",
   "metadata": {},
   "source": [
    "### img_captions"
   ]
  },
  {
   "cell_type": "code",
   "execution_count": 7,
   "metadata": {},
   "outputs": [
    {
     "name": "stdout",
     "output_type": "stream",
     "text": [
      "loading annotations into memory...\n",
      "Done (t=0.57s)\n",
      "creating index...\n",
      "index created!\n",
      "loading annotations into memory...\n",
      "Done (t=0.42s)\n",
      "creating index...\n",
      "index created!\n",
      "creating index...\n",
      "index created!\n",
      "creating index...\n",
      "index created!\n"
     ]
    }
   ],
   "source": [
    "coco_cap_train = COCO('/data0/DataSet/COCO2014/annotations/captions_train2014.json')\n",
    "coco_cap_test  = COCO('/data0/DataSet/COCO2014/annotations/captions_val2014.json')\n",
    "coco_cap_train = gen_new_coco(coco_cap_train, valid_img_ids=raw_rel_train[0]['image_id'])\n",
    "coco_cap_test  = gen_new_coco(coco_cap_test , valid_img_ids=raw_rel_test [0]['image_id'])"
   ]
  },
  {
   "cell_type": "code",
   "execution_count": 8,
   "metadata": {},
   "outputs": [
    {
     "data": {
      "text/plain": [
       "(5400, 4946)"
      ]
     },
     "execution_count": 8,
     "metadata": {},
     "output_type": "execute_result"
    }
   ],
   "source": [
    "len(coco_cap_train.dataset['images']), len(coco_cap_test.dataset['images'])"
   ]
  },
  {
   "cell_type": "code",
   "execution_count": 9,
   "metadata": {},
   "outputs": [],
   "source": [
    "dump(coco_cap_train.dataset, 'captions_train.json')\n",
    "dump(coco_cap_test.dataset , 'captions_test.json')"
   ]
  },
  {
   "cell_type": "markdown",
   "metadata": {},
   "source": [
    "### relation"
   ]
  },
  {
   "cell_type": "code",
   "execution_count": 3,
   "metadata": {},
   "outputs": [
    {
     "name": "stdout",
     "output_type": "stream",
     "text": [
      "loading annotations into memory...\n",
      "Done (t=1.03s)\n",
      "creating index...\n",
      "index created!\n",
      "loading annotations into memory...\n",
      "Done (t=0.75s)\n",
      "creating index...\n",
      "index created!\n"
     ]
    }
   ],
   "source": [
    "coco_ins_train = COCO('../../annotations/instances_train.json')\n",
    "coco_ins_test  = COCO('../../annotations/instances_test.json')"
   ]
  },
  {
   "cell_type": "code",
   "execution_count": 4,
   "metadata": {},
   "outputs": [],
   "source": [
    "# rel_categories = load('rel_categories.json')\n",
    "rel_categories = load('../../configs/rel_categories.json')"
   ]
  },
  {
   "cell_type": "code",
   "execution_count": 5,
   "metadata": {},
   "outputs": [],
   "source": [
    "# label_info = load('label_info.json')\n",
    "label_info = load('../../configs/label_info.json')\n",
    "rel_info = label_info['rel_info']"
   ]
  },
  {
   "cell_type": "code",
   "execution_count": 7,
   "metadata": {},
   "outputs": [],
   "source": [
    "def collect_coco_format(raw_anns: list, coco_ins: COCO,\n",
    "                        keep_no_obj: bool = True) -> dict:\n",
    "    rel_annotations = []\n",
    "    action_names = []\n",
    "    valid_img_ids = set()\n",
    "\n",
    "    for action in raw_anns:\n",
    "        roles = action['role_name']\n",
    "        if len(roles) == 1:\n",
    "            action_names.append(action['action_name'])\n",
    "            continue  # 没有交互对象，不是交互类型的verb\n",
    "\n",
    "        this_rels = []\n",
    "        for role in roles[1:]:\n",
    "            this_rels.append(len(action_names)+1)  # 1-base\n",
    "            action_names.append(action['action_name']+'-'+role)\n",
    "        role_ins_ids = np.array(action['role_object_id']).reshape(len(roles), -1).T.tolist()\n",
    "\n",
    "        for img_id, isvalid, ins_ids in zip(action['image_id'], action['label'], role_ins_ids):\n",
    "            if not isvalid:\n",
    "                continue\n",
    "\n",
    "            sub_id = ins_ids[0]\n",
    "            assert sub_id in coco_ins.anns\n",
    "\n",
    "            for obj_id, rel in zip(ins_ids[1:], this_rels):\n",
    "                if (str(rel) not in rel_info) and (rel not in rel_info):\n",
    "                    continue\n",
    "                if obj_id == 0:\n",
    "                    if keep_no_obj:\n",
    "                        obj_id = -1\n",
    "                    else:\n",
    "                        continue\n",
    "                else:\n",
    "                    assert obj_id in coco_ins.anns\n",
    "                rel_annotations.append({\n",
    "                    'id'         : len(rel_annotations) + 1,  # 1-base\n",
    "                    'subject_id' : sub_id,\n",
    "                    'object_id'  : obj_id,\n",
    "                    'category_id': rel,  # 1-base\n",
    "                    'image_id'   : img_id\n",
    "                })\n",
    "                valid_img_ids.add(img_id)\n",
    "\n",
    "    valid_imgs = []\n",
    "    for image in coco_ins.dataset['images']:\n",
    "        if image['id'] in valid_img_ids:\n",
    "            valid_imgs.append(image)\n",
    "    print('num total images: ', len(coco_ins.dataset['images']))\n",
    "    print('num valid images: ', len(valid_imgs))\n",
    "\n",
    "    new_rel_anns = {\n",
    "        'info'       : coco_ins.dataset['info'    ],\n",
    "        'licenses'   : coco_ins.dataset['licenses'],\n",
    "        'images'     : valid_imgs,\n",
    "        'annotations': rel_annotations,\n",
    "        'categories' : rel_categories\n",
    "    }\n",
    "    return new_rel_anns"
   ]
  },
  {
   "cell_type": "code",
   "execution_count": 8,
   "metadata": {},
   "outputs": [
    {
     "name": "stdout",
     "output_type": "stream",
     "text": [
      "num total images:  5400\n",
      "num valid images:  5267\n",
      "num total images:  4946\n",
      "num valid images:  4801\n"
     ]
    }
   ],
   "source": [
    "coco_rel_train = collect_coco_format(\n",
    "    raw_rel_train, coco_ins_train, keep_no_obj=True)\n",
    "coco_rel_test = collect_coco_format(\n",
    "    raw_rel_test, coco_ins_test, keep_no_obj=True)"
   ]
  },
  {
   "cell_type": "code",
   "execution_count": 15,
   "metadata": {},
   "outputs": [],
   "source": [
    "dump(coco_rel_train, 'relations_train.json')\n",
    "dump(coco_rel_test, 'relations_test.json')"
   ]
  },
  {
   "cell_type": "code",
   "execution_count": null,
   "metadata": {},
   "outputs": [],
   "source": []
  }
 ],
 "metadata": {
  "kernelspec": {
   "display_name": "mmcv",
   "language": "python",
   "name": "python3"
  },
  "language_info": {
   "codemirror_mode": {
    "name": "ipython",
    "version": 3
   },
   "file_extension": ".py",
   "mimetype": "text/x-python",
   "name": "python",
   "nbconvert_exporter": "python",
   "pygments_lexer": "ipython3",
   "version": "3.9.18"
  }
 },
 "nbformat": 4,
 "nbformat_minor": 2
}
