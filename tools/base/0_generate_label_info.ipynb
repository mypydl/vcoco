{
 "cells": [
  {
   "cell_type": "code",
   "execution_count": 1,
   "metadata": {},
   "outputs": [],
   "source": [
    "from collections import OrderedDict\n",
    "from pprint import pprint\n",
    "\n",
    "import numpy as np\n",
    "from mmengine import load, dump"
   ]
  },
  {
   "cell_type": "code",
   "execution_count": 2,
   "metadata": {},
   "outputs": [],
   "source": [
    "# 由GEN-VLKT提供\n",
    "from vcoco_text_label import vcoco_hoi_text_label, vcoco_obj_text_label\n",
    "test_spatial_hoi_text_label = {\n",
    "    # (26, 46): 'a photo of a person pointing a banana',\n",
    "    # (26, 59): 'a photo of a person pointing a bed',\n",
    "    (0, 59): 'a photo of a person holding a bed',\n",
    "    (13, 1): 'a photo of a person carrying a bicycle',\n",
    "    (5, 8): 'a photo of a person looking at a boat',\n",
    "    (17, 73): 'a photo of a person cutting a book',\n",
    "    (13, 2): 'a photo of a person carrying a car',\n",
    "    (0, 19): 'a photo of a person holding a cow',\n",
    "    (0, 60): 'a photo of a person holding a dining table',\n",
    "    (13, 16): 'a photo of a person carrying a dog',\n",
    "    (13, 54): 'a photo of a person carrying a donut',\n",
    "    (17, 52): 'a photo of a person cutting a hot dog',\n",
    "    (13, 63): 'a photo of a person carrying a laptop',\n",
    "    (17, 63): 'a photo of a person cutting a laptop',\n",
    "    # (26, 3): 'a photo of a person pointing a motorcycle',\n",
    "    (17, 49): 'a photo of a person cutting a orange',\n",
    "    # (26, 53): 'a photo of a person pointing a pizza',\n",
    "    (5, 58): 'a photo of a person looking at a potted plant',\n",
    "    (13, 18): 'a photo of a person carrying a sheep',\n",
    "    (17, 36): 'a photo of a person cutting a skateboard',\n",
    "    # (26, 30): 'a photo of a person pointing a skis',\n",
    "    # (26, 32): 'a photo of a person pointing a sports ball',\n",
    "    # (26, 28): 'a photo of a person pointing a suitcase',\n",
    "    (11, 61): 'a photo of a person laying on a toilet',\n",
    "    (5, 9): 'a photo of a person looking at a traffic light',\n",
    "}\n",
    "vcoco_hoi_text_label.update(test_spatial_hoi_text_label)"
   ]
  },
  {
   "cell_type": "markdown",
   "metadata": {},
   "source": [
    "annotation 基于 [https://github.com/fredzzhang/vcoco](https://github.com/fredzzhang/vcoco)"
   ]
  },
  {
   "attachments": {},
   "cell_type": "markdown",
   "metadata": {},
   "source": [
    "## instance"
   ]
  },
  {
   "cell_type": "code",
   "execution_count": 13,
   "metadata": {},
   "outputs": [
    {
     "name": "stdout",
     "output_type": "stream",
     "text": [
      "len_ins: 91, len_ins_valid: 81\n"
     ]
    }
   ],
   "source": [
    "ins_labels = [\n",
    "    'person', 'bicycle', 'car', 'motorcycle', 'airplane', 'bus', 'train', 'truck', 'boat', \n",
    "    'traffic light', 'fire hydrant', '', 'stop sign', 'parking meter', 'bench', 'bird', \n",
    "    'cat', 'dog', 'horse', 'sheep', 'cow', 'elephant', 'bear', 'zebra', 'giraffe', '', \n",
    "    'backpack', 'umbrella', '', '', 'handbag', 'tie', 'suitcase', 'frisbee', 'skis', \n",
    "    'snowboard', 'sports ball', 'kite', 'baseball bat', 'baseball glove', 'skateboard', \n",
    "    'surfboard', 'tennis racket', 'bottle', '', 'wine glass', 'cup', 'fork', 'knife', \n",
    "    'spoon', 'bowl', 'banana', 'apple', 'sandwich', 'orange', 'broccoli', 'carrot', \n",
    "    'hot dog', 'pizza', 'donut', 'cake', 'chair', 'couch', 'potted plant', 'bed', '', \n",
    "    'dining table', '', '', 'toilet', '', 'tv', 'laptop', 'mouse', 'remote', 'keyboard', \n",
    "    'cell phone', 'microwave', 'oven', 'toaster', 'sink', 'refrigerator', '', 'book', \n",
    "    'clock', 'vase', 'scissors', 'teddy bear', 'hair drier', 'toothbrush',\n",
    "    '__background__'  # 也是离谱\n",
    "]\n",
    "ann_ins_ids = (  # COCO 格式\n",
    "    1,  2,  3,  4,  5,  6,  7,  8,  9, 10, 11, 13, 14, 15, 16, 17, 18, 19, 20, 21, 22, \n",
    "    23, 24, 25, 27, 28, 31, 32, 33, 34, 35, 36, 37, 38, 39, 40, 41, 42, 43, 44, 46, 47, \n",
    "    48, 49, 50, 51, 52, 53, 54, 55, 56, 57, 58, 59, 60, 61, 62, 63, 64, 65, 67, 70, 72, \n",
    "    73, 74, 75, 76, 77, 78, 79, 80, 81, 82, 84, 85, 86, 87, 88, 89, 90,\n",
    "    0\n",
    ")\n",
    "print(f'len_ins: {len(ins_labels)}, len_ins_valid: {len(ann_ins_ids)}')"
   ]
  },
  {
   "cell_type": "code",
   "execution_count": 14,
   "metadata": {},
   "outputs": [
    {
     "data": {
      "text/plain": [
       "{'name': 'person', 'text': 'a photo of a person', 'valid_id': 0, 'ann_id': 1}"
      ]
     },
     "execution_count": 14,
     "metadata": {},
     "output_type": "execute_result"
    }
   ],
   "source": [
    "ins_info = {\n",
    "    ann_id: {\n",
    "        'name': ins_labels[ann_id-1],\n",
    "        'text': text,\n",
    "\n",
    "        'valid_id': valid_id,\n",
    "        'ann_id'  : ann_id,\n",
    "    }\n",
    "    for ann_id, (valid_id, text) in zip(ann_ins_ids, vcoco_obj_text_label)\n",
    "}\n",
    "ins_info[1]"
   ]
  },
  {
   "cell_type": "code",
   "execution_count": 15,
   "metadata": {},
   "outputs": [
    {
     "data": {
      "text/plain": [
       "{'name': '__background__',\n",
       " 'text': 'a photo of nothing',\n",
       " 'valid_id': 80,\n",
       " 'ann_id': 0}"
      ]
     },
     "execution_count": 15,
     "metadata": {},
     "output_type": "execute_result"
    }
   ],
   "source": [
    "ins_info[0]"
   ]
  },
  {
   "attachments": {},
   "cell_type": "markdown",
   "metadata": {},
   "source": [
    "## relation"
   ]
  },
  {
   "cell_type": "code",
   "execution_count": 7,
   "metadata": {},
   "outputs": [
    {
     "name": "stdout",
     "output_type": "stream",
     "text": [
      "len_ins: 29, len_ins_valid: 24\n"
     ]
    }
   ],
   "source": [
    "action_labels = [\n",
    "    'hold obj', \n",
    "    'stand',  # ignore\n",
    "    'sit instr', 'ride instr', \n",
    "    'walk',   # ignore\n",
    "    'look obj', 'hit instr', 'hit obj', 'eat obj', 'eat instr', 'jump instr', \n",
    "    'lay instr', 'talk_on_phone instr', 'carry obj', 'throw obj', 'catch obj', \n",
    "    'cut instr', 'cut obj', \n",
    "    'run',   # ignore\n",
    "    'work_on_computer instr', 'ski instr', 'surf instr', 'skateboard instr', \n",
    "    'smile',   # ignore\n",
    "    'drink instr', 'kick obj', \n",
    "    'point instr',   # ignore？\n",
    "    'read obj', 'snowboard instr']\n",
    "ann_rel_ids = (1,  3,  4,  6,  7,  8,  9,  10, 11, 12, 13, 14, 15, 16, 17, 18, \n",
    "               20, 21, 22, 23, 25, 26, 28, 29)\n",
    "print(f'len_ins: {len(action_labels)}, len_ins_valid: {len(ann_rel_ids)}')"
   ]
  },
  {
   "cell_type": "code",
   "execution_count": 8,
   "metadata": {},
   "outputs": [],
   "source": [
    "rel_info = {\n",
    "    ann_id: {\n",
    "        'name': action_labels[ann_id-1],\n",
    "        'valid_id': valid_id,\n",
    "        'ann_id'  : ann_id,\n",
    "    }\n",
    "    for valid_id, ann_id in enumerate(ann_rel_ids)\n",
    "}"
   ]
  },
  {
   "cell_type": "code",
   "execution_count": 9,
   "metadata": {},
   "outputs": [
    {
     "data": {
      "text/plain": [
       "{1: {'name': 'hold obj', 'valid_id': 0, 'ann_id': 1},\n",
       " 3: {'name': 'sit instr', 'valid_id': 1, 'ann_id': 3},\n",
       " 4: {'name': 'ride instr', 'valid_id': 2, 'ann_id': 4},\n",
       " 6: {'name': 'look obj', 'valid_id': 3, 'ann_id': 6},\n",
       " 7: {'name': 'hit instr', 'valid_id': 4, 'ann_id': 7},\n",
       " 8: {'name': 'hit obj', 'valid_id': 5, 'ann_id': 8},\n",
       " 9: {'name': 'eat obj', 'valid_id': 6, 'ann_id': 9},\n",
       " 10: {'name': 'eat instr', 'valid_id': 7, 'ann_id': 10},\n",
       " 11: {'name': 'jump instr', 'valid_id': 8, 'ann_id': 11},\n",
       " 12: {'name': 'lay instr', 'valid_id': 9, 'ann_id': 12},\n",
       " 13: {'name': 'talk_on_phone instr', 'valid_id': 10, 'ann_id': 13},\n",
       " 14: {'name': 'carry obj', 'valid_id': 11, 'ann_id': 14},\n",
       " 15: {'name': 'throw obj', 'valid_id': 12, 'ann_id': 15},\n",
       " 16: {'name': 'catch obj', 'valid_id': 13, 'ann_id': 16},\n",
       " 17: {'name': 'cut instr', 'valid_id': 14, 'ann_id': 17},\n",
       " 18: {'name': 'cut obj', 'valid_id': 15, 'ann_id': 18},\n",
       " 20: {'name': 'work_on_computer instr', 'valid_id': 16, 'ann_id': 20},\n",
       " 21: {'name': 'ski instr', 'valid_id': 17, 'ann_id': 21},\n",
       " 22: {'name': 'surf instr', 'valid_id': 18, 'ann_id': 22},\n",
       " 23: {'name': 'skateboard instr', 'valid_id': 19, 'ann_id': 23},\n",
       " 25: {'name': 'drink instr', 'valid_id': 20, 'ann_id': 25},\n",
       " 26: {'name': 'kick obj', 'valid_id': 21, 'ann_id': 26},\n",
       " 28: {'name': 'read obj', 'valid_id': 22, 'ann_id': 28},\n",
       " 29: {'name': 'snowboard instr', 'valid_id': 23, 'ann_id': 29}}"
      ]
     },
     "execution_count": 9,
     "metadata": {},
     "output_type": "execute_result"
    }
   ],
   "source": [
    "rel_info"
   ]
  },
  {
   "cell_type": "code",
   "execution_count": 12,
   "metadata": {},
   "outputs": [
    {
     "data": {
      "text/plain": [
       "{0: 0,\n",
       " 2: 1,\n",
       " 3: 2,\n",
       " 5: 3,\n",
       " 6: 4,\n",
       " 7: 5,\n",
       " 8: 6,\n",
       " 9: 7,\n",
       " 10: 8,\n",
       " 11: 9,\n",
       " 12: 10,\n",
       " 13: 11,\n",
       " 14: 12,\n",
       " 15: 13,\n",
       " 16: 14,\n",
       " 17: 15,\n",
       " 19: 16,\n",
       " 20: 17,\n",
       " 21: 18,\n",
       " 22: 19,\n",
       " 24: 20,\n",
       " 25: 21,\n",
       " 27: 22,\n",
       " 28: 23}"
      ]
     },
     "execution_count": 12,
     "metadata": {},
     "output_type": "execute_result"
    }
   ],
   "source": [
    "valid_rel_map = {\n",
    "    ann_id-1: info['valid_id']\n",
    "    for ann_id, info in rel_info.items()\n",
    "}\n",
    "valid_rel_map"
   ]
  },
  {
   "cell_type": "code",
   "execution_count": null,
   "metadata": {},
   "outputs": [
    {
     "data": {
      "text/plain": [
       "24"
      ]
     },
     "metadata": {},
     "output_type": "display_data"
    }
   ],
   "source": [
    "rel_categories = [dict(id=int(id), name=info['name']) for id, info in rel_info.items()]\n",
    "rel_categories.sort(key=lambda cat: rel_info[cat['id']]['valid_id'])\n",
    "len(rel_categories)"
   ]
  },
  {
   "cell_type": "code",
   "execution_count": null,
   "metadata": {},
   "outputs": [],
   "source": [
    "dump(rel_categories, 'rel_categories.json')"
   ]
  },
  {
   "attachments": {},
   "cell_type": "markdown",
   "metadata": {},
   "source": [
    "## hoi"
   ]
  },
  {
   "cell_type": "markdown",
   "metadata": {},
   "source": [
    "按[obj_name, rel_name]的字典序重新排列，仅改变valid_id"
   ]
  },
  {
   "cell_type": "code",
   "execution_count": 19,
   "metadata": {},
   "outputs": [
    {
     "data": {
      "text/plain": [
       "260"
      ]
     },
     "execution_count": 19,
     "metadata": {},
     "output_type": "execute_result"
    }
   ],
   "source": [
    "raw_keys = list(vcoco_hoi_text_label.keys())\n",
    "new_keys = sorted(\n",
    "    [x for x in raw_keys if x[0] in valid_rel_map], \n",
    "    key=lambda x: [\n",
    "        ann_ins_ids[x[1]] == 0,\n",
    "        ins_labels[ann_ins_ids[x[1]]-1],  # 按name的字典序排列\n",
    "        action_labels[x[0]]\n",
    "    ])\n",
    "hoi_valid_id_map = [raw_keys.index(key) for key in new_keys]  # new_to_old\n",
    "new_vcoco_hoi_text_label = OrderedDict()\n",
    "for key in new_keys:\n",
    "    raw_valid_rel, raw_valid_obj = key\n",
    "    new_ann_rel = raw_valid_rel + 1\n",
    "    new_ann_ins = ann_ins_ids[raw_valid_obj]\n",
    "    new_key = (new_ann_rel, new_ann_ins)\n",
    "    new_vcoco_hoi_text_label[new_key] = vcoco_hoi_text_label[key]\n",
    "\n",
    "len(new_vcoco_hoi_text_label)"
   ]
  },
  {
   "cell_type": "code",
   "execution_count": 21,
   "metadata": {},
   "outputs": [],
   "source": [
    "np.save('valid_id_new2old_hoi.npy', hoi_valid_id_map)"
   ]
  },
  {
   "cell_type": "code",
   "execution_count": 20,
   "metadata": {},
   "outputs": [
    {
     "data": {
      "text/plain": [
       "{'name': 'look obj-airplane',\n",
       " 'text': 'a photo of a person looking at an airplane',\n",
       " 'valid_id': 0,\n",
       " 'ann_id': 1,\n",
       " 'ann_hoi_pair': (6, 5),\n",
       " 'valid_hoi_pair': (3, 4),\n",
       " 'valid_rel_id': 3,\n",
       " 'ann_rel_id': 6,\n",
       " 'valid_obj_id': 4,\n",
       " 'ann_obj_id': 5}"
      ]
     },
     "execution_count": 20,
     "metadata": {},
     "output_type": "execute_result"
    }
   ],
   "source": [
    "hoi_info = {}\n",
    "for valid_hoi, ((ann_rel, ann_obj), text) in enumerate(new_vcoco_hoi_text_label.items()):\n",
    "    ann_hoi = valid_hoi + 1\n",
    "    valid_rel = rel_info[ann_rel]['valid_id']\n",
    "    valid_obj = ins_info[ann_obj]['valid_id']\n",
    "\n",
    "    hoi_info[ann_hoi] = {\n",
    "        'name': f'{rel_info[ann_rel][\"name\"]}-{ins_info[ann_obj][\"name\"]}',\n",
    "        'text': text,\n",
    "\n",
    "        'valid_id'      : valid_hoi,\n",
    "        'ann_id'        : ann_hoi,\n",
    "\n",
    "        'ann_hoi_pair'  : (ann_rel, ann_obj),\n",
    "        'valid_hoi_pair': (valid_rel, valid_obj),\n",
    "\n",
    "        'valid_rel_id': valid_rel,\n",
    "        'ann_rel_id'  : ann_rel,\n",
    "\n",
    "        'valid_obj_id': valid_obj,\n",
    "        'ann_obj_id'  : ann_obj,\n",
    "    }\n",
    "hoi_info[1]"
   ]
  },
  {
   "cell_type": "code",
   "execution_count": 23,
   "metadata": {},
   "outputs": [],
   "source": [
    "label_info = {\n",
    "    'ins_info': ins_info,\n",
    "    'rel_info': rel_info,\n",
    "    'hoi_info': hoi_info,\n",
    "}"
   ]
  },
  {
   "cell_type": "markdown",
   "metadata": {},
   "source": [
    "## hoi到rel、obj的映射"
   ]
  },
  {
   "cell_type": "code",
   "execution_count": 24,
   "metadata": {},
   "outputs": [],
   "source": [
    "hoi_info = label_info['hoi_info']\n",
    "valid_id_hoi2rel, valid_id_hoi2obj = [None]*len(hoi_info), [None]*len(hoi_info)\n",
    "for info in hoi_info.values():\n",
    "    valid_id_hoi2rel[info['valid_id']] = info['valid_rel_id']\n",
    "    valid_id_hoi2obj[info['valid_id']] = info['valid_obj_id']\n",
    "valid_id_hoi2rel = np.array(valid_id_hoi2rel, dtype=int)\n",
    "valid_id_hoi2obj = np.array(valid_id_hoi2obj, dtype=int)"
   ]
  },
  {
   "cell_type": "code",
   "execution_count": 25,
   "metadata": {},
   "outputs": [],
   "source": [
    "np.save('valid_id_hoi2rel.npy', valid_id_hoi2rel)\n",
    "np.save('valid_id_hoi2obj.npy', valid_id_hoi2obj)"
   ]
  },
  {
   "cell_type": "markdown",
   "metadata": {},
   "source": [
    "## 组合标签和组成标签的对应"
   ]
  },
  {
   "cell_type": "code",
   "execution_count": 26,
   "metadata": {},
   "outputs": [],
   "source": [
    "def collect_utils(hoi_info, rel_info, ins_info):\n",
    "    \"\"\"只看ann_id\"\"\"\n",
    "    pair2hoi = {}\n",
    "    hois_per_obj = {i: [] for i in sorted(ins_info.keys())}\n",
    "    hois_per_rel = {i: [] for i in sorted(rel_info.keys())}\n",
    "    objs_per_rel = {i: [] for i in sorted(rel_info.keys())}\n",
    "    rels_per_obj = {i: [] for i in sorted(ins_info.keys())}\n",
    "\n",
    "    for key in sorted(list(hoi_info.keys())):\n",
    "        info = hoi_info[key]\n",
    "        pair2hoi[str(info['ann_hoi_pair'])] = key\n",
    "\n",
    "        ann_obj_id = info['ann_obj_id']\n",
    "        ann_rel_id = info['ann_rel_id']\n",
    "        hois_per_obj[ann_obj_id].append(key)\n",
    "        hois_per_rel[ann_rel_id].append(key)\n",
    "        objs_per_rel[ann_rel_id].append(ann_obj_id)\n",
    "        rels_per_obj[ann_obj_id].append(ann_rel_id)\n",
    "\n",
    "    def sort_value(dict_: dict):\n",
    "        for key, value in dict_.items():\n",
    "            dict_[key] = sorted(value)\n",
    "\n",
    "    sort_value(hois_per_obj)\n",
    "    sort_value(hois_per_rel)\n",
    "    sort_value(objs_per_rel)\n",
    "    sort_value(rels_per_obj)\n",
    "\n",
    "    return pair2hoi, hois_per_obj, hois_per_rel, objs_per_rel, rels_per_obj"
   ]
  },
  {
   "cell_type": "code",
   "execution_count": 27,
   "metadata": {},
   "outputs": [],
   "source": [
    "pair2hoi, hois_per_obj, hois_per_rel, objs_per_rel, rels_per_obj = \\\n",
    "    collect_utils(hoi_info, rel_info, ins_info)\n",
    "label_info.update({\n",
    "    'pair2hoi': pair2hoi,\n",
    "    'hois_per_obj': hois_per_obj,\n",
    "    'hois_per_rel': hois_per_rel,\n",
    "    'objs_per_rel': objs_per_rel,\n",
    "    'rels_per_obj': rels_per_obj,\n",
    "})"
   ]
  },
  {
   "cell_type": "code",
   "execution_count": 28,
   "metadata": {},
   "outputs": [],
   "source": [
    "dump(label_info, 'label_info.json')"
   ]
  },
  {
   "cell_type": "code",
   "execution_count": 29,
   "metadata": {},
   "outputs": [],
   "source": [
    "# 只看valid_id\n",
    "valid_id_triplet2label = {\n",
    "    (0, info['valid_rel_id'], info['valid_obj_id']) : info['valid_id']\n",
    "    for info in label_info['hoi_info'].values()\n",
    "}\n",
    "valid_id_triplets = sorted(\n",
    "    list(valid_id_triplet2label.keys()), \n",
    "    key=lambda x: valid_id_triplet2label[x])"
   ]
  },
  {
   "cell_type": "code",
   "execution_count": 30,
   "metadata": {},
   "outputs": [],
   "source": [
    "dump(valid_id_triplet2label, 'valid_id_triplet2label.pkl')  # 0-base\n",
    "np.save('valid_id_triplets.npy', valid_id_triplets)  # 0-base  triplet_parse"
   ]
  },
  {
   "cell_type": "markdown",
   "metadata": {},
   "source": [
    "## 用于排除错误组合的label_matrix"
   ]
  },
  {
   "cell_type": "code",
   "execution_count": 2,
   "metadata": {},
   "outputs": [],
   "source": [
    "label_info = load('../../configs/label_info.json')\n",
    "hoi_info = label_info['hoi_info']\n",
    "ins_info = label_info['ins_info']\n",
    "rel_info = label_info['rel_info']"
   ]
  },
  {
   "cell_type": "code",
   "execution_count": 3,
   "metadata": {},
   "outputs": [],
   "source": [
    "correct_sg_mat = np.zeros((len(ins_info), len(rel_info)), dtype=bool)\n",
    "for info in hoi_info.values():\n",
    "    correct_sg_mat[info['valid_obj_id'], info['valid_rel_id']] = True"
   ]
  },
  {
   "cell_type": "code",
   "execution_count": 4,
   "metadata": {},
   "outputs": [],
   "source": [
    "np.save('correct_sg_mat.npy', correct_sg_mat)"
   ]
  },
  {
   "cell_type": "code",
   "execution_count": null,
   "metadata": {},
   "outputs": [],
   "source": [
    "correct_sg_mat = np.zeros((len(ins_info), len(rel_info), len(ins_info)), dtype=bool)\n",
    "for info in hoi_info.values():\n",
    "    correct_sg_mat[0, info['valid_rel_id'], info['valid_obj_id']] = True"
   ]
  },
  {
   "cell_type": "code",
   "execution_count": null,
   "metadata": {},
   "outputs": [],
   "source": [
    "np.save('correct_sg_mat_triplet.npy', correct_sg_mat)"
   ]
  },
  {
   "cell_type": "code",
   "execution_count": null,
   "metadata": {},
   "outputs": [],
   "source": []
  }
 ],
 "metadata": {
  "kernelspec": {
   "display_name": "Python 3.9.13 ('mmlab')",
   "language": "python",
   "name": "python3"
  },
  "language_info": {
   "codemirror_mode": {
    "name": "ipython",
    "version": 3
   },
   "file_extension": ".py",
   "mimetype": "text/x-python",
   "name": "python",
   "nbconvert_exporter": "python",
   "pygments_lexer": "ipython3",
   "version": "3.9.17"
  },
  "orig_nbformat": 4,
  "vscode": {
   "interpreter": {
    "hash": "860f04aefc9e3b0aa81e6b65839e758c2f993e15969b910de4cd110e056d16fe"
   }
  }
 },
 "nbformat": 4,
 "nbformat_minor": 2
}
